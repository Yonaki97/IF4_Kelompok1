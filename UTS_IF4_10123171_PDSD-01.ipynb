{
 "cells": [
  {
   "cell_type": "markdown",
   "id": "3987faad-6ba8-478c-a68f-148875dee89a",
   "metadata": {},
   "source": [
    "Aturan dan Kriteria Penilaian untuk Menjawab Soal Analisis Data\n",
    "1. Identitas Mahasiswa <br>\n",
    "a. Pastikan notebook berisi NIM, Nama, dan Kelas yang diletakkan di bagian atas notebook. <br>\n",
    "b. Format header :\n",
    "<hr>\n",
    "NIM : [10123171] <br>\n",
    "Nama : [Agung Rezalky] <br>\n",
    "Kelas : [IF-4] <br>\n",
    "Kode Soal : [PDSD-01]"
   ]
  },
  {
   "cell_type": "markdown",
   "id": "e9007610-0560-4162-a9fa-f9fb2dacb5a2",
   "metadata": {},
   "source": [
    "1. Bagaimana mengetahui statistik jumlah transaksi per bulan selama tahun 2015. Berdasarkan statistik\r\n",
    "yang diperoleh, akan didapatkan informasi pada bulan apa jumlah penjualan paling sedikit, serta yang\r\n",
    "paling banyak (40 Point)."
   ]
  },
  {
   "cell_type": "markdown",
   "id": "8ba551b7-b4bd-4ae4-aa89-4b774b1c0d39",
   "metadata": {},
   "source": [
    "# MEMANGGIL LIBRARY"
   ]
  },
  {
   "cell_type": "code",
   "execution_count": 24,
   "id": "3e6d39bc-69f6-425e-8f66-bf96fa1cfa0f",
   "metadata": {},
   "outputs": [],
   "source": [
    "import numpy as np\n",
    "import matplotlib.pyplot as plt\n",
    "import pandas as pd"
   ]
  },
  {
   "cell_type": "markdown",
   "id": "ad6fbf81-ee18-49c3-972b-764ae1e0e1eb",
   "metadata": {},
   "source": [
    "# DATA WRANGLING"
   ]
  },
  {
   "cell_type": "markdown",
   "id": "e5c2fd4d-67a6-428a-b124-4b3703086083",
   "metadata": {},
   "source": [
    "## ( GATHERING ACCESING CLEANING ) DATA"
   ]
  },
  {
   "cell_type": "code",
   "execution_count": 25,
   "id": "ba7913d7-0795-42b4-84e7-1f785c3eca48",
   "metadata": {},
   "outputs": [
    {
     "data": {
      "text/html": [
       "<div>\n",
       "<style scoped>\n",
       "    .dataframe tbody tr th:only-of-type {\n",
       "        vertical-align: middle;\n",
       "    }\n",
       "\n",
       "    .dataframe tbody tr th {\n",
       "        vertical-align: top;\n",
       "    }\n",
       "\n",
       "    .dataframe thead th {\n",
       "        text-align: right;\n",
       "    }\n",
       "</style>\n",
       "<table border=\"1\" class=\"dataframe\">\n",
       "  <thead>\n",
       "    <tr style=\"text-align: right;\">\n",
       "      <th></th>\n",
       "      <th>Row ID</th>\n",
       "      <th>Order ID</th>\n",
       "      <th>Order Date</th>\n",
       "      <th>Ship Date</th>\n",
       "      <th>Ship Mode</th>\n",
       "      <th>Customer ID</th>\n",
       "      <th>Customer Name</th>\n",
       "      <th>Segment</th>\n",
       "      <th>Country</th>\n",
       "      <th>City</th>\n",
       "      <th>...</th>\n",
       "      <th>Postal Code</th>\n",
       "      <th>Region</th>\n",
       "      <th>Product ID</th>\n",
       "      <th>Category</th>\n",
       "      <th>Sub-Category</th>\n",
       "      <th>Product Name</th>\n",
       "      <th>Sales</th>\n",
       "      <th>Quantity</th>\n",
       "      <th>Discount</th>\n",
       "      <th>Profit</th>\n",
       "    </tr>\n",
       "  </thead>\n",
       "  <tbody>\n",
       "    <tr>\n",
       "      <th>0</th>\n",
       "      <td>1</td>\n",
       "      <td>CA-2016-152156</td>\n",
       "      <td>2016-11-08</td>\n",
       "      <td>2016-11-11</td>\n",
       "      <td>Second Class</td>\n",
       "      <td>CG-12520</td>\n",
       "      <td>Claire Gute</td>\n",
       "      <td>Consumer</td>\n",
       "      <td>United States</td>\n",
       "      <td>Henderson</td>\n",
       "      <td>...</td>\n",
       "      <td>42420</td>\n",
       "      <td>South</td>\n",
       "      <td>FUR-BO-10001798</td>\n",
       "      <td>Furniture</td>\n",
       "      <td>Bookcases</td>\n",
       "      <td>Bush Somerset Collection Bookcase</td>\n",
       "      <td>261.9600</td>\n",
       "      <td>2</td>\n",
       "      <td>0.00</td>\n",
       "      <td>41.9136</td>\n",
       "    </tr>\n",
       "    <tr>\n",
       "      <th>1</th>\n",
       "      <td>2</td>\n",
       "      <td>CA-2016-152156</td>\n",
       "      <td>2016-11-08</td>\n",
       "      <td>2016-11-11</td>\n",
       "      <td>Second Class</td>\n",
       "      <td>CG-12520</td>\n",
       "      <td>Claire Gute</td>\n",
       "      <td>Consumer</td>\n",
       "      <td>United States</td>\n",
       "      <td>Henderson</td>\n",
       "      <td>...</td>\n",
       "      <td>42420</td>\n",
       "      <td>South</td>\n",
       "      <td>FUR-CH-10000454</td>\n",
       "      <td>Furniture</td>\n",
       "      <td>Chairs</td>\n",
       "      <td>Hon Deluxe Fabric Upholstered Stacking Chairs,...</td>\n",
       "      <td>731.9400</td>\n",
       "      <td>3</td>\n",
       "      <td>0.00</td>\n",
       "      <td>219.5820</td>\n",
       "    </tr>\n",
       "    <tr>\n",
       "      <th>2</th>\n",
       "      <td>3</td>\n",
       "      <td>CA-2016-138688</td>\n",
       "      <td>2016-06-12</td>\n",
       "      <td>2016-06-16</td>\n",
       "      <td>Second Class</td>\n",
       "      <td>DV-13045</td>\n",
       "      <td>Darrin Van Huff</td>\n",
       "      <td>Corporate</td>\n",
       "      <td>United States</td>\n",
       "      <td>Los Angeles</td>\n",
       "      <td>...</td>\n",
       "      <td>90036</td>\n",
       "      <td>West</td>\n",
       "      <td>OFF-LA-10000240</td>\n",
       "      <td>Office Supplies</td>\n",
       "      <td>Labels</td>\n",
       "      <td>Self-Adhesive Address Labels for Typewriters b...</td>\n",
       "      <td>14.6200</td>\n",
       "      <td>2</td>\n",
       "      <td>0.00</td>\n",
       "      <td>6.8714</td>\n",
       "    </tr>\n",
       "    <tr>\n",
       "      <th>3</th>\n",
       "      <td>4</td>\n",
       "      <td>US-2015-108966</td>\n",
       "      <td>2015-10-11</td>\n",
       "      <td>2015-10-18</td>\n",
       "      <td>Standard Class</td>\n",
       "      <td>SO-20335</td>\n",
       "      <td>Sean O'Donnell</td>\n",
       "      <td>Consumer</td>\n",
       "      <td>United States</td>\n",
       "      <td>Fort Lauderdale</td>\n",
       "      <td>...</td>\n",
       "      <td>33311</td>\n",
       "      <td>South</td>\n",
       "      <td>FUR-TA-10000577</td>\n",
       "      <td>Furniture</td>\n",
       "      <td>Tables</td>\n",
       "      <td>Bretford CR4500 Series Slim Rectangular Table</td>\n",
       "      <td>957.5775</td>\n",
       "      <td>5</td>\n",
       "      <td>0.45</td>\n",
       "      <td>-383.0310</td>\n",
       "    </tr>\n",
       "    <tr>\n",
       "      <th>4</th>\n",
       "      <td>5</td>\n",
       "      <td>US-2015-108966</td>\n",
       "      <td>2015-10-11</td>\n",
       "      <td>2015-10-18</td>\n",
       "      <td>Standard Class</td>\n",
       "      <td>SO-20335</td>\n",
       "      <td>Sean O'Donnell</td>\n",
       "      <td>Consumer</td>\n",
       "      <td>United States</td>\n",
       "      <td>Fort Lauderdale</td>\n",
       "      <td>...</td>\n",
       "      <td>33311</td>\n",
       "      <td>South</td>\n",
       "      <td>OFF-ST-10000760</td>\n",
       "      <td>Office Supplies</td>\n",
       "      <td>Storage</td>\n",
       "      <td>Eldon Fold 'N Roll Cart System</td>\n",
       "      <td>22.3680</td>\n",
       "      <td>2</td>\n",
       "      <td>0.20</td>\n",
       "      <td>2.5164</td>\n",
       "    </tr>\n",
       "  </tbody>\n",
       "</table>\n",
       "<p>5 rows × 21 columns</p>\n",
       "</div>"
      ],
      "text/plain": [
       "   Row ID        Order ID  Order Date   Ship Date       Ship Mode Customer ID  \\\n",
       "0       1  CA-2016-152156  2016-11-08  2016-11-11    Second Class    CG-12520   \n",
       "1       2  CA-2016-152156  2016-11-08  2016-11-11    Second Class    CG-12520   \n",
       "2       3  CA-2016-138688  2016-06-12  2016-06-16    Second Class    DV-13045   \n",
       "3       4  US-2015-108966  2015-10-11  2015-10-18  Standard Class    SO-20335   \n",
       "4       5  US-2015-108966  2015-10-11  2015-10-18  Standard Class    SO-20335   \n",
       "\n",
       "     Customer Name    Segment        Country             City  ...  \\\n",
       "0      Claire Gute   Consumer  United States        Henderson  ...   \n",
       "1      Claire Gute   Consumer  United States        Henderson  ...   \n",
       "2  Darrin Van Huff  Corporate  United States      Los Angeles  ...   \n",
       "3   Sean O'Donnell   Consumer  United States  Fort Lauderdale  ...   \n",
       "4   Sean O'Donnell   Consumer  United States  Fort Lauderdale  ...   \n",
       "\n",
       "  Postal Code  Region       Product ID         Category Sub-Category  \\\n",
       "0       42420   South  FUR-BO-10001798        Furniture    Bookcases   \n",
       "1       42420   South  FUR-CH-10000454        Furniture       Chairs   \n",
       "2       90036    West  OFF-LA-10000240  Office Supplies       Labels   \n",
       "3       33311   South  FUR-TA-10000577        Furniture       Tables   \n",
       "4       33311   South  OFF-ST-10000760  Office Supplies      Storage   \n",
       "\n",
       "                                        Product Name     Sales  Quantity  \\\n",
       "0                  Bush Somerset Collection Bookcase  261.9600         2   \n",
       "1  Hon Deluxe Fabric Upholstered Stacking Chairs,...  731.9400         3   \n",
       "2  Self-Adhesive Address Labels for Typewriters b...   14.6200         2   \n",
       "3      Bretford CR4500 Series Slim Rectangular Table  957.5775         5   \n",
       "4                     Eldon Fold 'N Roll Cart System   22.3680         2   \n",
       "\n",
       "   Discount    Profit  \n",
       "0      0.00   41.9136  \n",
       "1      0.00  219.5820  \n",
       "2      0.00    6.8714  \n",
       "3      0.45 -383.0310  \n",
       "4      0.20    2.5164  \n",
       "\n",
       "[5 rows x 21 columns]"
      ]
     },
     "execution_count": 25,
     "metadata": {},
     "output_type": "execute_result"
    }
   ],
   "source": [
    "df = pd.read_csv('Sample-Superstore.csv',sep=',')\n",
    "df.head()\n"
   ]
  },
  {
   "cell_type": "code",
   "execution_count": 26,
   "id": "c8ead3b2-7aa5-4ad6-a2e1-a8e66f5ca2f7",
   "metadata": {},
   "outputs": [
    {
     "name": "stdout",
     "output_type": "stream",
     "text": [
      "Row ID           0\n",
      "Order ID         0\n",
      "Order Date       0\n",
      "Ship Date        0\n",
      "Ship Mode        0\n",
      "Customer ID      0\n",
      "Customer Name    0\n",
      "Segment          0\n",
      "Country          0\n",
      "City             0\n",
      "State            0\n",
      "Postal Code      0\n",
      "Region           0\n",
      "Product ID       0\n",
      "Category         0\n",
      "Sub-Category     0\n",
      "Product Name     0\n",
      "Sales            0\n",
      "Quantity         0\n",
      "Discount         0\n",
      "Profit           0\n",
      "dtype: int64\n",
      "<class 'pandas.core.frame.DataFrame'>\n",
      "RangeIndex: 9994 entries, 0 to 9993\n",
      "Data columns (total 21 columns):\n",
      " #   Column         Non-Null Count  Dtype  \n",
      "---  ------         --------------  -----  \n",
      " 0   Row ID         9994 non-null   int64  \n",
      " 1   Order ID       9994 non-null   object \n",
      " 2   Order Date     9994 non-null   object \n",
      " 3   Ship Date      9994 non-null   object \n",
      " 4   Ship Mode      9994 non-null   object \n",
      " 5   Customer ID    9994 non-null   object \n",
      " 6   Customer Name  9994 non-null   object \n",
      " 7   Segment        9994 non-null   object \n",
      " 8   Country        9994 non-null   object \n",
      " 9   City           9994 non-null   object \n",
      " 10  State          9994 non-null   object \n",
      " 11  Postal Code    9994 non-null   int64  \n",
      " 12  Region         9994 non-null   object \n",
      " 13  Product ID     9994 non-null   object \n",
      " 14  Category       9994 non-null   object \n",
      " 15  Sub-Category   9994 non-null   object \n",
      " 16  Product Name   9994 non-null   object \n",
      " 17  Sales          9994 non-null   float64\n",
      " 18  Quantity       9994 non-null   int64  \n",
      " 19  Discount       9994 non-null   float64\n",
      " 20  Profit         9994 non-null   float64\n",
      "dtypes: float64(3), int64(3), object(15)\n",
      "memory usage: 1.6+ MB\n"
     ]
    },
    {
     "data": {
      "text/html": [
       "<div>\n",
       "<style scoped>\n",
       "    .dataframe tbody tr th:only-of-type {\n",
       "        vertical-align: middle;\n",
       "    }\n",
       "\n",
       "    .dataframe tbody tr th {\n",
       "        vertical-align: top;\n",
       "    }\n",
       "\n",
       "    .dataframe thead th {\n",
       "        text-align: right;\n",
       "    }\n",
       "</style>\n",
       "<table border=\"1\" class=\"dataframe\">\n",
       "  <thead>\n",
       "    <tr style=\"text-align: right;\">\n",
       "      <th></th>\n",
       "      <th>Row ID</th>\n",
       "      <th>Postal Code</th>\n",
       "      <th>Sales</th>\n",
       "      <th>Quantity</th>\n",
       "      <th>Discount</th>\n",
       "      <th>Profit</th>\n",
       "    </tr>\n",
       "  </thead>\n",
       "  <tbody>\n",
       "    <tr>\n",
       "      <th>count</th>\n",
       "      <td>9994.000000</td>\n",
       "      <td>9994.000000</td>\n",
       "      <td>9994.000000</td>\n",
       "      <td>9994.000000</td>\n",
       "      <td>9994.000000</td>\n",
       "      <td>9994.000000</td>\n",
       "    </tr>\n",
       "    <tr>\n",
       "      <th>mean</th>\n",
       "      <td>4997.500000</td>\n",
       "      <td>55190.379428</td>\n",
       "      <td>229.858001</td>\n",
       "      <td>3.789574</td>\n",
       "      <td>0.156203</td>\n",
       "      <td>28.656896</td>\n",
       "    </tr>\n",
       "    <tr>\n",
       "      <th>std</th>\n",
       "      <td>2885.163629</td>\n",
       "      <td>32063.693350</td>\n",
       "      <td>623.245101</td>\n",
       "      <td>2.225110</td>\n",
       "      <td>0.206452</td>\n",
       "      <td>234.260108</td>\n",
       "    </tr>\n",
       "    <tr>\n",
       "      <th>min</th>\n",
       "      <td>1.000000</td>\n",
       "      <td>1040.000000</td>\n",
       "      <td>0.444000</td>\n",
       "      <td>1.000000</td>\n",
       "      <td>0.000000</td>\n",
       "      <td>-6599.978000</td>\n",
       "    </tr>\n",
       "    <tr>\n",
       "      <th>25%</th>\n",
       "      <td>2499.250000</td>\n",
       "      <td>23223.000000</td>\n",
       "      <td>17.280000</td>\n",
       "      <td>2.000000</td>\n",
       "      <td>0.000000</td>\n",
       "      <td>1.728750</td>\n",
       "    </tr>\n",
       "    <tr>\n",
       "      <th>50%</th>\n",
       "      <td>4997.500000</td>\n",
       "      <td>56430.500000</td>\n",
       "      <td>54.490000</td>\n",
       "      <td>3.000000</td>\n",
       "      <td>0.200000</td>\n",
       "      <td>8.666500</td>\n",
       "    </tr>\n",
       "    <tr>\n",
       "      <th>75%</th>\n",
       "      <td>7495.750000</td>\n",
       "      <td>90008.000000</td>\n",
       "      <td>209.940000</td>\n",
       "      <td>5.000000</td>\n",
       "      <td>0.200000</td>\n",
       "      <td>29.364000</td>\n",
       "    </tr>\n",
       "    <tr>\n",
       "      <th>max</th>\n",
       "      <td>9994.000000</td>\n",
       "      <td>99301.000000</td>\n",
       "      <td>22638.480000</td>\n",
       "      <td>14.000000</td>\n",
       "      <td>0.800000</td>\n",
       "      <td>8399.976000</td>\n",
       "    </tr>\n",
       "  </tbody>\n",
       "</table>\n",
       "</div>"
      ],
      "text/plain": [
       "            Row ID   Postal Code         Sales     Quantity     Discount  \\\n",
       "count  9994.000000   9994.000000   9994.000000  9994.000000  9994.000000   \n",
       "mean   4997.500000  55190.379428    229.858001     3.789574     0.156203   \n",
       "std    2885.163629  32063.693350    623.245101     2.225110     0.206452   \n",
       "min       1.000000   1040.000000      0.444000     1.000000     0.000000   \n",
       "25%    2499.250000  23223.000000     17.280000     2.000000     0.000000   \n",
       "50%    4997.500000  56430.500000     54.490000     3.000000     0.200000   \n",
       "75%    7495.750000  90008.000000    209.940000     5.000000     0.200000   \n",
       "max    9994.000000  99301.000000  22638.480000    14.000000     0.800000   \n",
       "\n",
       "            Profit  \n",
       "count  9994.000000  \n",
       "mean     28.656896  \n",
       "std     234.260108  \n",
       "min   -6599.978000  \n",
       "25%       1.728750  \n",
       "50%       8.666500  \n",
       "75%      29.364000  \n",
       "max    8399.976000  "
      ]
     },
     "execution_count": 26,
     "metadata": {},
     "output_type": "execute_result"
    }
   ],
   "source": [
    "# Mengecek data yang hilang / cek Missing values\n",
    "print(df.isna().sum())\n",
    "# dan ternyata kosong semua,apabila terapat kondisi dimana anda memiliki missing values,anda dapat  menghapusnya dengan cara \n",
    "# df.dropna()\n",
    "# untuk melihat type-type dari sebuah column\n",
    "df.info()\n",
    "\n",
    "# melihat deskripsi colom dan mengecek count,mean,std,min,q1,median,q3,max\n",
    "df.describe()"
   ]
  },
  {
   "cell_type": "markdown",
   "id": "531a30cb-b1d3-4af0-a9ee-1c34f5257089",
   "metadata": {},
   "source": [
    "# CEK DATA DUPLIKAT"
   ]
  },
  {
   "cell_type": "code",
   "execution_count": 27,
   "id": "cdd004d3-b5b1-444d-8138-7a18580e0689",
   "metadata": {},
   "outputs": [
    {
     "data": {
      "text/plain": [
       "0       False\n",
       "1       False\n",
       "2       False\n",
       "3       False\n",
       "4       False\n",
       "        ...  \n",
       "9989    False\n",
       "9990    False\n",
       "9991    False\n",
       "9992    False\n",
       "9993    False\n",
       "Length: 9994, dtype: bool"
      ]
     },
     "execution_count": 27,
     "metadata": {},
     "output_type": "execute_result"
    }
   ],
   "source": [
    "# mengecek data duplikat\n",
    "df.duplicated()\n",
    "# setelah dicekternyata tidak ada data yang True(Duplikat)\n",
    "# dan dibawah ini adalah cara menghapus data duplikat apabila ada\n",
    "# df.drop_duplicates()\n",
    "\n",
    "# seharusnya ngecek nilai isna itu setelah cek data duplikat"
   ]
  },
  {
   "cell_type": "markdown",
   "id": "ef50f160-1ca8-4108-9242-332f1763c665",
   "metadata": {},
   "source": [
    "## karna semua Datanya tidak ada yang duplikat,maka kita tidak perlu menghapusnya"
   ]
  },
  {
   "cell_type": "markdown",
   "id": "87cbd2b8-33e1-4b64-95c5-38842e846698",
   "metadata": {},
   "source": [
    "# FORMAT DATA "
   ]
  },
  {
   "cell_type": "code",
   "execution_count": 28,
   "id": "a3d3162c-5500-4dd8-88c1-12ce9c5ac2fb",
   "metadata": {},
   "outputs": [
    {
     "name": "stdout",
     "output_type": "stream",
     "text": [
      "<class 'pandas.core.frame.DataFrame'>\n",
      "RangeIndex: 9994 entries, 0 to 9993\n",
      "Data columns (total 21 columns):\n",
      " #   Column         Non-Null Count  Dtype         \n",
      "---  ------         --------------  -----         \n",
      " 0   Row ID         9994 non-null   int64         \n",
      " 1   Order ID       9994 non-null   object        \n",
      " 2   Order Date     9994 non-null   datetime64[ns]\n",
      " 3   Ship Date      9994 non-null   object        \n",
      " 4   Ship Mode      9994 non-null   object        \n",
      " 5   Customer ID    9994 non-null   object        \n",
      " 6   Customer Name  9994 non-null   object        \n",
      " 7   Segment        9994 non-null   object        \n",
      " 8   Country        9994 non-null   object        \n",
      " 9   City           9994 non-null   object        \n",
      " 10  State          9994 non-null   object        \n",
      " 11  Postal Code    9994 non-null   int64         \n",
      " 12  Region         9994 non-null   object        \n",
      " 13  Product ID     9994 non-null   object        \n",
      " 14  Category       9994 non-null   object        \n",
      " 15  Sub-Category   9994 non-null   object        \n",
      " 16  Product Name   9994 non-null   object        \n",
      " 17  Sales          9994 non-null   float64       \n",
      " 18  Quantity       9994 non-null   int64         \n",
      " 19  Discount       9994 non-null   float64       \n",
      " 20  Profit         9994 non-null   float64       \n",
      "dtypes: datetime64[ns](1), float64(3), int64(3), object(14)\n",
      "memory usage: 1.6+ MB\n"
     ]
    }
   ],
   "source": [
    "# karna Dtype dari tanggal adalah datetime,maka ubahlah terlebih dahulu\n",
    "# ubah dulu tipe object dari 'object' menjadi 'datetime'\n",
    "df['Order Date'] = pd.to_datetime(df['Order Date'])\n",
    "# mengecek kembali type dari sebuah object\n",
    "df.info()"
   ]
  },
  {
   "cell_type": "markdown",
   "id": "f42be62e-b613-4212-8414-16d77c983e86",
   "metadata": {},
   "source": [
    "## Terlihat,bahwa Dtype oleh Order Date telah berubah menjadi Datetime"
   ]
  },
  {
   "cell_type": "markdown",
   "id": "bdb632a8-fb19-4cd7-a010-3bd21e5affaf",
   "metadata": {},
   "source": [
    "# MENGHITUNG PENJUALAN PER BULAN"
   ]
  },
  {
   "cell_type": "code",
   "execution_count": 29,
   "id": "ea3fe4fb-d32f-4ea4-a69d-aaef743e252a",
   "metadata": {},
   "outputs": [
    {
     "name": "stdout",
     "output_type": "stream",
     "text": [
      "bulan dengan jumlahpenjualan terbanyak adalah : 352461.071 di bulan 11 \n",
      "bulan dengan jumlahpenjualan terendah adalah : 59751.2514 di bulan 2 \n"
     ]
    }
   ],
   "source": [
    "# menghitung penjualan perbulan\n",
    "monthly_sales=df.groupby(df['Order Date'].dt.month)['Sales'].sum()\n",
    "# Solusi lain\n",
    "# df['month] =  df['Order Date'].dt.month\n",
    "# data_2015 = df[df['year'] == 2015]\n",
    "monthly_sales\n",
    "# definisikan max dan min\n",
    "BulanPenjualanMax = monthly_sales.max()\n",
    "BulanPenjualanMin = monthly_sales.min()\n",
    "targetbulanmax = monthly_sales.idxmax()\n",
    "targetbulanmin = monthly_sales.idxmin()\n",
    "\n",
    "# Hasil\n",
    "print(f'bulan dengan jumlahpenjualan terbanyak adalah : {BulanPenjualanMax} di bulan {targetbulanmax} ')\n",
    "print(f'bulan dengan jumlahpenjualan terendah adalah : {BulanPenjualanMin} di bulan {targetbulanmin} ')\n",
    "\n",
    "# \n"
   ]
  },
  {
   "cell_type": "markdown",
   "id": "17620d27-3915-4b11-904c-252560c55f84",
   "metadata": {},
   "source": [
    "# VISUALISASI DATA"
   ]
  },
  {
   "cell_type": "markdown",
   "id": "d645fb41-29b8-4848-abed-422274f00437",
   "metadata": {},
   "source": [
    "## Menggunakan Plot"
   ]
  },
  {
   "cell_type": "code",
   "execution_count": 30,
   "id": "239880df-fe60-490f-915f-fdae46f97d7c",
   "metadata": {},
   "outputs": [
    {
     "data": {
      "image/png": "[encoded data removed]",
      "text/plain": [
       "<Figure size 640x480 with 1 Axes>"
      ]
     },
     "metadata": {},
     "output_type": "display_data"
    }
   ],
   "source": [
    "# visualisasi data\n",
    "monthly_sales.plot(\n",
    "    marker= 'o',\n",
    "    color = 'cyan',\n",
    "    label = 'Sales',\n",
    "    # linestyle = '--'\n",
    "    )\n",
    "plt.title('PENJUALAN PER BULAN')\n",
    "plt.xlabel('Order date (Bulan)')\n",
    "plt.ylabel('Sales (Harga)')\n",
    "plt.legend()\n",
    "plt.show()\n",
    "\n",
    "# kenapa saya memilih plot \n",
    "# karna data tersebut mengukur pertumbuhan , dan visualisasi plot adalah yang terbaik untuk melihat pertumbuhan total penjualan produk"
   ]
  },
  {
   "cell_type": "markdown",
   "id": "7555fe77-d8f2-493e-8e88-3b3fb2a2ef93",
   "metadata": {},
   "source": [
    "## Dapat dilihat dari grafik, bahwasannya Bulan 11 mendapati dengan total penjualan tertinggi sedangkan bulan 2 mendapati total penjualan terendah"
   ]
  },
  {
   "cell_type": "markdown",
   "id": "94d2236a-c1f1-4827-bf54-061606ac256b",
   "metadata": {},
   "source": [
    "2. Pihak superstore ingin menganalisis jenis atau kategori produk atau nama produk apa yang paling\r\n",
    "banyak menyebabkan kerugian, dan yang paling banyak memberikan keuntungan (profit) (40 Point)."
   ]
  },
  {
   "cell_type": "markdown",
   "id": "b2547fbf-dac2-46ec-b18d-ac3651f8fb6e",
   "metadata": {},
   "source": [
    "## MENGHITUNG TOTAL PROFIT CATEGORY"
   ]
  },
  {
   "cell_type": "code",
   "execution_count": 31,
   "id": "cfd77de6-bf32-47d7-aba8-b1737aaafad9",
   "metadata": {},
   "outputs": [
    {
     "data": {
      "text/plain": [
       "Category\n",
       "Furniture           18451.2728\n",
       "Office Supplies    122490.8008\n",
       "Technology         145454.9481\n",
       "Name: Profit, dtype: float64"
      ]
     },
     "execution_count": 31,
     "metadata": {},
     "output_type": "execute_result"
    }
   ],
   "source": [
    "# sebelum dicari keuntungan\n",
    "ProfitCat =df.groupby('Category')['Profit'].sum()\n",
    "ProfitCat"
   ]
  },
  {
   "cell_type": "markdown",
   "id": "08d8e566-39f5-40b4-a362-4e765544ab6f",
   "metadata": {},
   "source": [
    "## MENGHITUNG KEUNTUNGAN DAN KERUGIAN \n"
   ]
  },
  {
   "cell_type": "code",
   "execution_count": 32,
   "id": "1775ba13-ff80-4caa-a395-402ae1b5d183",
   "metadata": {},
   "outputs": [
    {
     "name": "stdout",
     "output_type": "stream",
     "text": [
      "Jadi keuntungan profit yang didapat ialah : 145454.9481 dengan Category Technology\n",
      "Jadi Kerugian profit yang didapat ialah   : 18451.272799999995 dengan Category Furniture\n"
     ]
    }
   ],
   "source": [
    "# mencari keuntungan dan kerugian \n",
    "KeuntunganProfitCat = ProfitCat.max()\n",
    "NamaKeuntunganProfitCat = ProfitCat.idxmax()\n",
    "print('Jadi keuntungan profit yang didapat ialah :',KeuntunganProfitCat,'dengan Category',NamaKeuntunganProfitCat)\n",
    "\n",
    "# mencari kerugian \n",
    "# mencari keuntungan dan kerugian \n",
    "KerugianProfitCat = ProfitCat.min()\n",
    "NamaKerugianProfitCat = ProfitCat.idxmin()\n",
    "print('Jadi Kerugian profit yang didapat ialah   :',KerugianProfitCat,'dengan Category',NamaKerugianProfitCat)\n"
   ]
  },
  {
   "cell_type": "markdown",
   "id": "50fa1fdd-2128-438d-831a-29152541e2a5",
   "metadata": {},
   "source": [
    "## MENGHITUNG TOTAL PROFIT SUB-CATEGORY"
   ]
  },
  {
   "cell_type": "code",
   "execution_count": 33,
   "id": "bc64739b-24bd-4ad0-90ff-75a992b92ce9",
   "metadata": {},
   "outputs": [
    {
     "data": {
      "text/plain": [
       "Sub-Category\n",
       "Accessories    41936.6357\n",
       "Appliances     18138.0054\n",
       "Art             6527.7870\n",
       "Binders        30221.7633\n",
       "Bookcases      -3472.5560\n",
       "Chairs         26590.1663\n",
       "Copiers        55617.8249\n",
       "Envelopes       6964.1767\n",
       "Fasteners        949.5182\n",
       "Furnishings    13059.1436\n",
       "Labels          5546.2540\n",
       "Machines        3384.7569\n",
       "Paper          34053.5693\n",
       "Phones         44515.7306\n",
       "Storage        21278.8264\n",
       "Supplies       -1189.0995\n",
       "Tables        -17725.4811\n",
       "Name: Profit, dtype: float64"
      ]
     },
     "execution_count": 33,
     "metadata": {},
     "output_type": "execute_result"
    }
   ],
   "source": [
    "# sebelum dicari keuntungan\n",
    "ProfitSub =df.groupby('Sub-Category')['Profit'].sum()\n",
    "ProfitSub"
   ]
  },
  {
   "cell_type": "markdown",
   "id": "9a2b6cd2-d524-4419-b698-f2c5ab42157b",
   "metadata": {},
   "source": [
    "## MENGHITUNG KEUNTUNGAN DAN KERUGIAN"
   ]
  },
  {
   "cell_type": "code",
   "execution_count": 34,
   "id": "8dbd0df5-75e3-42d8-a521-8eea16b0e5d1",
   "metadata": {},
   "outputs": [
    {
     "name": "stdout",
     "output_type": "stream",
     "text": [
      "Jadi keuntungan profit yang didapat ialah : 55617.8249 dengan Category Copiers\n",
      "Jadi Kerugian profit yang didapat ialah : -17725.4811 dengan Category Tables\n"
     ]
    }
   ],
   "source": [
    "# mencari keuntungan dan kerugian \n",
    "KeuntunganProfitSub = ProfitSub.max()\n",
    "NamaKeuntunganProfitSub = ProfitSub.idxmax()\n",
    "print('Jadi keuntungan profit yang didapat ialah :',KeuntunganProfitSub,'dengan Category',NamaKeuntunganProfitSub)\n",
    "\n",
    "# mencari kerugian \n",
    "# mencari keuntungan dan kerugian \n",
    "KerugianProfitSub = ProfitSub.min()\n",
    "NamaKerugianProfitSub = ProfitSub.idxmin()\n",
    "print('Jadi Kerugian profit yang didapat ialah :',KerugianProfitSub,'dengan Category',NamaKerugianProfitSub)"
   ]
  },
  {
   "cell_type": "markdown",
   "id": "1d3d19a4-a09d-4838-b4ae-6f0126062f5a",
   "metadata": {},
   "source": [
    "## MENGHITUNG TOTAL PROFIT PRODUCT NAME"
   ]
  },
  {
   "cell_type": "code",
   "execution_count": 35,
   "id": "9e862a60-f988-4ef0-8884-822f81a4b0ef",
   "metadata": {},
   "outputs": [
    {
     "data": {
      "text/plain": [
       "Product Name\n",
       "\"While you Were Out\" Message Book, One Form per Page                                                    10.3880\n",
       "#10 Gummed Flap White Envelopes, 100/Box                                                                16.7678\n",
       "#10 Self-Seal White Envelopes                                                                           52.1230\n",
       "#10 White Business Envelopes,4 1/8 x 9 1/2                                                             223.1408\n",
       "#10- 4 1/8\" x 9 1/2\" Recycled Envelopes                                                                115.2806\n",
       "                                                                                                         ...   \n",
       "iKross Bluetooth Portable Keyboard + Cell Phone Stand Holder + Brush for Apple iPhone 5S 5C 5, 4S 4    115.6440\n",
       "iOttie HLCRIO102 Car Mount                                                                             -11.9940\n",
       "iOttie XL Car Mount                                                                                    -50.3748\n",
       "invisibleSHIELD by ZAGG Smudge-Free Screen Protector                                                   171.2648\n",
       "netTALK DUO VoIP Telephone Service                                                                     430.4180\n",
       "Name: Profit, Length: 1850, dtype: float64"
      ]
     },
     "execution_count": 35,
     "metadata": {},
     "output_type": "execute_result"
    }
   ],
   "source": [
    "# sebelum dicari keuntungan\n",
    "# PName = Product Name\n",
    "ProfitPName =df.groupby('Product Name')['Profit'].sum()\n",
    "ProfitPName"
   ]
  },
  {
   "cell_type": "markdown",
   "id": "6897ba91-8e2b-469b-8562-394c2ffebd9d",
   "metadata": {},
   "source": [
    "## MENGHITUNG KEUNTUNGAN DAN KERUGIAN"
   ]
  },
  {
   "cell_type": "code",
   "execution_count": 36,
   "id": "55fa824a-5d85-49e5-a80c-821066132c1d",
   "metadata": {},
   "outputs": [
    {
     "name": "stdout",
     "output_type": "stream",
     "text": [
      "Jadi keuntungan profit yang didapat ialah : 25199.928 dengan Nama Produk Canon imageCLASS 2200 Advanced Copier\n",
      "Jadi Kerugian profit yang didapat ialah : -8879.9704 dengan Nama Produk Cubify CubeX 3D Printer Double Head Print\n"
     ]
    }
   ],
   "source": [
    "# mencari keuntungan dan kerugian \n",
    "KeuntunganProfitPName = ProfitPName.max()\n",
    "NamaKeuntunganProfitPName = ProfitPName.idxmax()\n",
    "print('Jadi keuntungan profit yang didapat ialah :',KeuntunganProfitPName,'dengan Nama Produk',NamaKeuntunganProfitPName)\n",
    "\n",
    "# mencari kerugian \n",
    "# mencari keuntungan dan kerugian \n",
    "KerugianProfitPName = ProfitPName.min()\n",
    "NamaKerugianProfitPName = ProfitPName.idxmin()\n",
    "print('Jadi Kerugian profit yang didapat ialah :',KerugianProfitPName,'dengan Nama Produk',NamaKerugianProfitPName)"
   ]
  },
  {
   "cell_type": "markdown",
   "id": "ba52de5d-8942-435d-99b5-44430b5d977a",
   "metadata": {},
   "source": [
    "## VISUALISASI DATA"
   ]
  },
  {
   "cell_type": "code",
   "execution_count": 37,
   "id": "1fea668f-20da-4e26-bc9b-091660444e29",
   "metadata": {},
   "outputs": [
    {
     "data": {
      "image/png": "[encoded data removed]",
      "text/plain": [
       "<Figure size 640x480 with 1 Axes>"
      ]
     },
     "metadata": {},
     "output_type": "display_data"
    }
   ],
   "source": [
    "# visualisasi data\n",
    "ProfitSub.plot(\n",
    "    color = 'cyan',\n",
    "    label = 'Sales',\n",
    "    # linestyle = '--'\n",
    "    )\n",
    "plt.title('SUB CATEGORY')\n",
    "plt.xlabel('Order date (Bulan)')\n",
    "plt.ylabel('Sales (Harga)')\n",
    "plt.legend()\n",
    "plt.show()"
   ]
  },
  {
   "cell_type": "code",
   "execution_count": 38,
   "id": "ad0abc28-234f-4db9-ab5d-ba61b3ec2621",
   "metadata": {},
   "outputs": [
    {
     "data": {
      "image/png": "[encoded data removed]",
      "text/plain": [
       "<Figure size 640x480 with 1 Axes>"
      ]
     },
     "metadata": {},
     "output_type": "display_data"
    }
   ],
   "source": [
    "# visualisasi data\n",
    "ProfitCat.plot(\n",
    "    color = 'cyan',\n",
    "    label = 'Sales',\n",
    "    # linestyle = '--'\n",
    "    )\n",
    "plt.title('CATEGORY')\n",
    "plt.xlabel('Order date (Bulan)')\n",
    "plt.ylabel('Sales (Harga)')\n",
    "plt.legend()\n",
    "plt.show()"
   ]
  },
  {
   "cell_type": "code",
   "execution_count": 39,
   "id": "0e3bf5cd-043f-4cdc-b661-afb15de62b29",
   "metadata": {},
   "outputs": [
    {
     "data": {
      "image/png": "[encoded data removed]",
      "text/plain": [
       "<Figure size 640x480 with 1 Axes>"
      ]
     },
     "metadata": {},
     "output_type": "display_data"
    }
   ],
   "source": [
    "# visualisasi data\n",
    "ProfitPName.plot(\n",
    "    color = 'cyan',\n",
    "    label = 'Sales',\n",
    "    # linestyle = '--'\n",
    "    )\n",
    "plt.title('NAME PRODUCT')\n",
    "plt.xlabel('Order date (Bulan)')\n",
    "plt.ylabel('Sales (Harga)')\n",
    "plt.xticks=90\n",
    "plt.legend()\n",
    "plt.show()"
   ]
  },
  {
   "cell_type": "code",
   "execution_count": null,
   "id": "09ccdf15-77ad-4387-9498-445f4780a259",
   "metadata": {},
   "outputs": [],
   "source": []
  }
 ],
 "metadata": {
  "kernelspec": {
   "display_name": "Python 3 (ipykernel)",
   "language": "python",
   "name": "python3"
  },
  "language_info": {
   "codemirror_mode": {
    "name": "ipython",
    "version": 3
   },
   "file_extension": ".py",
   "mimetype": "text/x-python",
   "name": "python",
   "nbconvert_exporter": "python",
   "pygments_lexer": "ipython3",
   "version": "3.10.8"
  }
 },
 "nbformat": 4,
 "nbformat_minor": 5
}
